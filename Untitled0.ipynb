{
  "nbformat": 4,
  "nbformat_minor": 0,
  "metadata": {
    "colab": {
      "provenance": [],
      "authorship_tag": "ABX9TyPRObRzUzvTsyL0n3Z9JlTc",
      "include_colab_link": true
    },
    "kernelspec": {
      "name": "python3",
      "display_name": "Python 3"
    },
    "language_info": {
      "name": "python"
    }
  },
  "cells": [
    {
      "cell_type": "markdown",
      "metadata": {
        "id": "view-in-github",
        "colab_type": "text"
      },
      "source": [
        "<a href=\"https://colab.research.google.com/github/BrujeroRR/DS-M4-Cluster_Hadoop/blob/main/Untitled0.ipynb\" target=\"_parent\"><img src=\"https://colab.research.google.com/assets/colab-badge.svg\" alt=\"Open In Colab\"/></a>"
      ]
    },
    {
      "cell_type": "code",
      "execution_count": 1,
      "metadata": {
        "id": "Q6q7dSdca0bW"
      },
      "outputs": [],
      "source": [
        "import numpy as np"
      ]
    },
    {
      "cell_type": "code",
      "source": [
        "array_unidimensional = np.array([1,2,3,4,5])\n",
        "print(array_unidimensional)"
      ],
      "metadata": {
        "colab": {
          "base_uri": "https://localhost:8080/"
        },
        "id": "jw5pm9QvoFnS",
        "outputId": "e15e462a-116b-45d0-e7a7-b23df62f7149"
      },
      "execution_count": 2,
      "outputs": [
        {
          "output_type": "stream",
          "name": "stdout",
          "text": [
            "[1 2 3 4 5]\n"
          ]
        }
      ]
    },
    {
      "cell_type": "code",
      "source": [
        "array_multidimensional = np.zeros((2,3))\n",
        "print(array_multidimensional)"
      ],
      "metadata": {
        "colab": {
          "base_uri": "https://localhost:8080/"
        },
        "id": "DauQGBdNoQ8k",
        "outputId": "e98e235c-05a3-4ff3-ceea-eace29c0d16c"
      },
      "execution_count": 4,
      "outputs": [
        {
          "output_type": "stream",
          "name": "stdout",
          "text": [
            "[[0. 0. 0.]\n",
            " [0. 0. 0.]]\n"
          ]
        }
      ]
    },
    {
      "cell_type": "code",
      "source": [
        "array_zeros = np.zeros((5))\n",
        "array_ones1 = np.ones((5,2))\n",
        "array_ones2 = np.ones((5))\n",
        "array_full = np.full(5, 10)\n",
        "print(array_zeros)\n",
        "print(array_ones1)\n",
        "print(array_ones2)\n",
        "print(array_full)"
      ],
      "metadata": {
        "colab": {
          "base_uri": "https://localhost:8080/"
        },
        "id": "uwf7QBy3okbI",
        "outputId": "ba7ed1ee-eb5a-4c16-f35c-3a4eaaf9223c"
      },
      "execution_count": 10,
      "outputs": [
        {
          "output_type": "stream",
          "name": "stdout",
          "text": [
            "[0. 0. 0. 0. 0.]\n",
            "[[1. 1.]\n",
            " [1. 1.]\n",
            " [1. 1.]\n",
            " [1. 1.]\n",
            " [1. 1.]]\n",
            "[1. 1. 1. 1. 1.]\n",
            "[10 10 10 10 10]\n"
          ]
        }
      ]
    },
    {
      "cell_type": "code",
      "source": [
        "array_rango = np.arange(1,10)\n",
        "array_aleatorio = np.random.randint(0,10,size=(3,2))\n",
        "print(array_rango)\n",
        "print(array_aleatorio)"
      ],
      "metadata": {
        "colab": {
          "base_uri": "https://localhost:8080/"
        },
        "id": "SA2G23_Lo8Mu",
        "outputId": "0fe9adb7-5268-45ba-e500-0a7632ee4e5b"
      },
      "execution_count": 24,
      "outputs": [
        {
          "output_type": "stream",
          "name": "stdout",
          "text": [
            "[1 2 3 4 5 6 7 8 9]\n",
            "[[6 9]\n",
            " [0 3]\n",
            " [2 1]]\n"
          ]
        }
      ]
    },
    {
      "cell_type": "code",
      "source": [
        "print(array_aleatorio.shape)\n",
        "print(array_aleatorio.size)\n",
        "print(array_aleatorio.dtype)"
      ],
      "metadata": {
        "colab": {
          "base_uri": "https://localhost:8080/"
        },
        "id": "jzP8ALxyp8P1",
        "outputId": "cb84c8ea-65cc-4c01-c54c-8f0670cad0bd"
      },
      "execution_count": 25,
      "outputs": [
        {
          "output_type": "stream",
          "name": "stdout",
          "text": [
            "(3, 2)\n",
            "6\n",
            "int64\n"
          ]
        }
      ]
    },
    {
      "cell_type": "code",
      "source": [],
      "metadata": {
        "id": "nFEaibaYqsIX"
      },
      "execution_count": null,
      "outputs": []
    }
  ]
}